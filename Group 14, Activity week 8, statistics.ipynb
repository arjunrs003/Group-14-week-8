{
 "cells": [
  {
   "cell_type": "code",
   "execution_count": 2,
   "id": "bee534bf",
   "metadata": {},
   "outputs": [],
   "source": [
    "import pandas as pd\n",
    "from scipy import stats\n",
    "import numpy as np\n"
   ]
  },
  {
   "cell_type": "code",
   "execution_count": 3,
   "id": "5bba621e",
   "metadata": {},
   "outputs": [],
   "source": [
    "df=pd.read_csv('Week_8_Q&A_dataset - Sheet1.csv')"
   ]
  },
  {
   "cell_type": "code",
   "execution_count": 4,
   "id": "9cc91821",
   "metadata": {},
   "outputs": [
    {
     "data": {
      "text/html": [
       "<div>\n",
       "<style scoped>\n",
       "    .dataframe tbody tr th:only-of-type {\n",
       "        vertical-align: middle;\n",
       "    }\n",
       "\n",
       "    .dataframe tbody tr th {\n",
       "        vertical-align: top;\n",
       "    }\n",
       "\n",
       "    .dataframe thead th {\n",
       "        text-align: right;\n",
       "    }\n",
       "</style>\n",
       "<table border=\"1\" class=\"dataframe\">\n",
       "  <thead>\n",
       "    <tr style=\"text-align: right;\">\n",
       "      <th></th>\n",
       "      <th>Gender</th>\n",
       "      <th>Test preparation</th>\n",
       "      <th>Total Marks</th>\n",
       "    </tr>\n",
       "  </thead>\n",
       "  <tbody>\n",
       "    <tr>\n",
       "      <th>0</th>\n",
       "      <td>male</td>\n",
       "      <td>none</td>\n",
       "      <td>14</td>\n",
       "    </tr>\n",
       "    <tr>\n",
       "      <th>1</th>\n",
       "      <td>female</td>\n",
       "      <td>none</td>\n",
       "      <td>28</td>\n",
       "    </tr>\n",
       "    <tr>\n",
       "      <th>2</th>\n",
       "      <td>female</td>\n",
       "      <td>none</td>\n",
       "      <td>18</td>\n",
       "    </tr>\n",
       "    <tr>\n",
       "      <th>3</th>\n",
       "      <td>female</td>\n",
       "      <td>none</td>\n",
       "      <td>48</td>\n",
       "    </tr>\n",
       "    <tr>\n",
       "      <th>4</th>\n",
       "      <td>female</td>\n",
       "      <td>none</td>\n",
       "      <td>21</td>\n",
       "    </tr>\n",
       "  </tbody>\n",
       "</table>\n",
       "</div>"
      ],
      "text/plain": [
       "   Gender Test preparation  Total Marks\n",
       "0    male             none           14\n",
       "1  female             none           28\n",
       "2  female             none           18\n",
       "3  female             none           48\n",
       "4  female             none           21"
      ]
     },
     "execution_count": 4,
     "metadata": {},
     "output_type": "execute_result"
    }
   ],
   "source": [
    "df.head()"
   ]
  },
  {
   "cell_type": "markdown",
   "id": "2cc43def",
   "metadata": {},
   "source": [
    "# Descriptive Analysis"
   ]
  },
  {
   "cell_type": "code",
   "execution_count": 15,
   "id": "f68ab060",
   "metadata": {},
   "outputs": [
    {
     "data": {
      "text/plain": [
       "female    16\n",
       "male      12\n",
       "Name: Gender, dtype: int64"
      ]
     },
     "execution_count": 15,
     "metadata": {},
     "output_type": "execute_result"
    }
   ],
   "source": [
    "df['Gender'].value_counts()"
   ]
  },
  {
   "cell_type": "code",
   "execution_count": 8,
   "id": "d4e62b06",
   "metadata": {},
   "outputs": [
    {
     "data": {
      "text/html": [
       "<div>\n",
       "<style scoped>\n",
       "    .dataframe tbody tr th:only-of-type {\n",
       "        vertical-align: middle;\n",
       "    }\n",
       "\n",
       "    .dataframe tbody tr th {\n",
       "        vertical-align: top;\n",
       "    }\n",
       "\n",
       "    .dataframe thead th {\n",
       "        text-align: right;\n",
       "    }\n",
       "</style>\n",
       "<table border=\"1\" class=\"dataframe\">\n",
       "  <thead>\n",
       "    <tr style=\"text-align: right;\">\n",
       "      <th></th>\n",
       "      <th>Total Marks</th>\n",
       "    </tr>\n",
       "  </thead>\n",
       "  <tbody>\n",
       "    <tr>\n",
       "      <th>count</th>\n",
       "      <td>28.000000</td>\n",
       "    </tr>\n",
       "    <tr>\n",
       "      <th>mean</th>\n",
       "      <td>32.321429</td>\n",
       "    </tr>\n",
       "    <tr>\n",
       "      <th>std</th>\n",
       "      <td>12.454520</td>\n",
       "    </tr>\n",
       "    <tr>\n",
       "      <th>min</th>\n",
       "      <td>12.000000</td>\n",
       "    </tr>\n",
       "    <tr>\n",
       "      <th>25%</th>\n",
       "      <td>22.500000</td>\n",
       "    </tr>\n",
       "    <tr>\n",
       "      <th>50%</th>\n",
       "      <td>33.000000</td>\n",
       "    </tr>\n",
       "    <tr>\n",
       "      <th>75%</th>\n",
       "      <td>43.250000</td>\n",
       "    </tr>\n",
       "    <tr>\n",
       "      <th>max</th>\n",
       "      <td>50.000000</td>\n",
       "    </tr>\n",
       "  </tbody>\n",
       "</table>\n",
       "</div>"
      ],
      "text/plain": [
       "       Total Marks\n",
       "count    28.000000\n",
       "mean     32.321429\n",
       "std      12.454520\n",
       "min      12.000000\n",
       "25%      22.500000\n",
       "50%      33.000000\n",
       "75%      43.250000\n",
       "max      50.000000"
      ]
     },
     "execution_count": 8,
     "metadata": {},
     "output_type": "execute_result"
    }
   ],
   "source": [
    "df.describe()"
   ]
  },
  {
   "cell_type": "code",
   "execution_count": 5,
   "id": "62e8705c",
   "metadata": {},
   "outputs": [
    {
     "data": {
      "text/plain": [
       "Gender              0\n",
       "Test preparation    0\n",
       "Total Marks         0\n",
       "dtype: int64"
      ]
     },
     "execution_count": 5,
     "metadata": {},
     "output_type": "execute_result"
    }
   ],
   "source": [
    "df.isna().sum()"
   ]
  },
  {
   "cell_type": "code",
   "execution_count": 45,
   "id": "8a09ca4c",
   "metadata": {},
   "outputs": [
    {
     "data": {
      "text/html": [
       "<div>\n",
       "<style scoped>\n",
       "    .dataframe tbody tr th:only-of-type {\n",
       "        vertical-align: middle;\n",
       "    }\n",
       "\n",
       "    .dataframe tbody tr th {\n",
       "        vertical-align: top;\n",
       "    }\n",
       "\n",
       "    .dataframe thead th {\n",
       "        text-align: right;\n",
       "    }\n",
       "</style>\n",
       "<table border=\"1\" class=\"dataframe\">\n",
       "  <thead>\n",
       "    <tr style=\"text-align: right;\">\n",
       "      <th></th>\n",
       "      <th>Total Marks</th>\n",
       "    </tr>\n",
       "    <tr>\n",
       "      <th>Gender</th>\n",
       "      <th></th>\n",
       "    </tr>\n",
       "  </thead>\n",
       "  <tbody>\n",
       "    <tr>\n",
       "      <th>female</th>\n",
       "      <td>33.750000</td>\n",
       "    </tr>\n",
       "    <tr>\n",
       "      <th>male</th>\n",
       "      <td>30.416667</td>\n",
       "    </tr>\n",
       "  </tbody>\n",
       "</table>\n",
       "</div>"
      ],
      "text/plain": [
       "        Total Marks\n",
       "Gender             \n",
       "female    33.750000\n",
       "male      30.416667"
      ]
     },
     "execution_count": 45,
     "metadata": {},
     "output_type": "execute_result"
    }
   ],
   "source": [
    "df.groupby(['Gender']).mean()"
   ]
  },
  {
   "cell_type": "code",
   "execution_count": 9,
   "id": "3142ecc0",
   "metadata": {},
   "outputs": [
    {
     "data": {
      "text/html": [
       "<div>\n",
       "<style scoped>\n",
       "    .dataframe tbody tr th:only-of-type {\n",
       "        vertical-align: middle;\n",
       "    }\n",
       "\n",
       "    .dataframe tbody tr th {\n",
       "        vertical-align: top;\n",
       "    }\n",
       "\n",
       "    .dataframe thead th {\n",
       "        text-align: right;\n",
       "    }\n",
       "</style>\n",
       "<table border=\"1\" class=\"dataframe\">\n",
       "  <thead>\n",
       "    <tr style=\"text-align: right;\">\n",
       "      <th></th>\n",
       "      <th>Total Marks</th>\n",
       "    </tr>\n",
       "    <tr>\n",
       "      <th>Test preparation</th>\n",
       "      <th></th>\n",
       "    </tr>\n",
       "  </thead>\n",
       "  <tbody>\n",
       "    <tr>\n",
       "      <th>completed</th>\n",
       "      <td>44.571429</td>\n",
       "    </tr>\n",
       "    <tr>\n",
       "      <th>none</th>\n",
       "      <td>28.238095</td>\n",
       "    </tr>\n",
       "  </tbody>\n",
       "</table>\n",
       "</div>"
      ],
      "text/plain": [
       "                  Total Marks\n",
       "Test preparation             \n",
       "completed           44.571429\n",
       "none                28.238095"
      ]
     },
     "execution_count": 9,
     "metadata": {},
     "output_type": "execute_result"
    }
   ],
   "source": [
    "df.groupby(['Test preparation']).mean()"
   ]
  },
  {
   "cell_type": "markdown",
   "id": "99846930",
   "metadata": {},
   "source": [
    "# 2. Check whether female and male students scored the same marks."
   ]
  },
  {
   "cell_type": "markdown",
   "id": "cde2e799",
   "metadata": {},
   "source": [
    "Null hypothesis H0: male marks != female marks\n",
    "    \n",
    "Alternate Hypothesis H1: male marks == female marks"
   ]
  },
  {
   "cell_type": "code",
   "execution_count": 18,
   "id": "087f6fee",
   "metadata": {},
   "outputs": [
    {
     "data": {
      "text/plain": [
       "0     14\n",
       "6     30\n",
       "8     18\n",
       "9     24\n",
       "10    44\n",
       "11    23\n",
       "12    43\n",
       "13    28\n",
       "18    47\n",
       "19    36\n",
       "20    14\n",
       "21    44\n",
       "Name: Total Marks, dtype: int64"
      ]
     },
     "execution_count": 18,
     "metadata": {},
     "output_type": "execute_result"
    }
   ],
   "source": [
    "boys_mark=df[df['Gender']=='male']\n",
    "boys_mark['Total Marks']"
   ]
  },
  {
   "cell_type": "code",
   "execution_count": 19,
   "id": "d0de5f2b",
   "metadata": {},
   "outputs": [
    {
     "data": {
      "text/plain": [
       "1     28\n",
       "2     18\n",
       "3     48\n",
       "4     21\n",
       "5     40\n",
       "7     12\n",
       "14    41\n",
       "15    13\n",
       "16    48\n",
       "17    45\n",
       "22    41\n",
       "23    27\n",
       "24    27\n",
       "25    38\n",
       "26    50\n",
       "27    43\n",
       "Name: Total Marks, dtype: int64"
      ]
     },
     "execution_count": 19,
     "metadata": {},
     "output_type": "execute_result"
    }
   ],
   "source": [
    "female_mark=df.loc[(df['Gender']=='female')]\n",
    "female_mark['Total Marks']"
   ]
  },
  {
   "cell_type": "code",
   "execution_count": 46,
   "id": "23247511",
   "metadata": {},
   "outputs": [],
   "source": [
    "t_stat,p_value=stats.ttest_ind(boys_mark['Total Marks'],female_mark['Total Marks'],alternative='two-sided')"
   ]
  },
  {
   "cell_type": "code",
   "execution_count": 47,
   "id": "e8d90825",
   "metadata": {},
   "outputs": [
    {
     "name": "stdout",
     "output_type": "stream",
     "text": [
      "T Statistics value is:  -0.6940885268848668 P value is:  0.4937822317960763\n"
     ]
    }
   ],
   "source": [
    "print('T Statistics value is: ',t_stat, 'P value is: ',p_value)"
   ]
  },
  {
   "cell_type": "markdown",
   "id": "f7f1cab4",
   "metadata": {},
   "source": [
    "Let us assume that alpha value is 0.05, our p value is 0.493 which is greater than alpha value. So, we accept null hypothesis.\n",
    "\n",
    "Conclusion:- Female and Male students marks are not same"
   ]
  },
  {
   "cell_type": "markdown",
   "id": "c6ecd8eb",
   "metadata": {},
   "source": [
    "# 3. Whether test preparation helps the students?"
   ]
  },
  {
   "cell_type": "markdown",
   "id": "1656d8c4",
   "metadata": {},
   "source": [
    "H0: the students who completed the test preparation <= students who didn't completed the test preparation\n",
    "\n",
    "H1: the students who completed the test preparation > students who didn't completed the test preparation"
   ]
  },
  {
   "cell_type": "code",
   "execution_count": 51,
   "id": "307baacf",
   "metadata": {},
   "outputs": [],
   "source": [
    "completed_marks=df.loc[(df['Test preparation']=='completed')]"
   ]
  },
  {
   "cell_type": "code",
   "execution_count": 53,
   "id": "73c577fc",
   "metadata": {},
   "outputs": [
    {
     "data": {
      "text/plain": [
       "5     40\n",
       "10    44\n",
       "12    43\n",
       "16    48\n",
       "21    44\n",
       "26    50\n",
       "27    43\n",
       "Name: Total Marks, dtype: int64"
      ]
     },
     "execution_count": 53,
     "metadata": {},
     "output_type": "execute_result"
    }
   ],
   "source": [
    "completed_marks['Total Marks']"
   ]
  },
  {
   "cell_type": "code",
   "execution_count": 54,
   "id": "15bb1776",
   "metadata": {},
   "outputs": [],
   "source": [
    "none_marks=df.loc[(df['Test preparation']=='none')]"
   ]
  },
  {
   "cell_type": "code",
   "execution_count": 55,
   "id": "839154d2",
   "metadata": {},
   "outputs": [
    {
     "data": {
      "text/plain": [
       "0     14\n",
       "1     28\n",
       "2     18\n",
       "3     48\n",
       "4     21\n",
       "6     30\n",
       "7     12\n",
       "8     18\n",
       "9     24\n",
       "11    23\n",
       "13    28\n",
       "14    41\n",
       "15    13\n",
       "17    45\n",
       "18    47\n",
       "19    36\n",
       "20    14\n",
       "22    41\n",
       "23    27\n",
       "24    27\n",
       "25    38\n",
       "Name: Total Marks, dtype: int64"
      ]
     },
     "execution_count": 55,
     "metadata": {},
     "output_type": "execute_result"
    }
   ],
   "source": [
    "none_marks['Total Marks']"
   ]
  },
  {
   "cell_type": "code",
   "execution_count": 58,
   "id": "8983000b",
   "metadata": {},
   "outputs": [],
   "source": [
    "t_stat,P_value=stats.ttest_ind(completed_marks['Total Marks'],none_marks['Total Marks'],alternative='greater')"
   ]
  },
  {
   "cell_type": "code",
   "execution_count": 60,
   "id": "36cd4359",
   "metadata": {},
   "outputs": [
    {
     "name": "stdout",
     "output_type": "stream",
     "text": [
      "T-statistics value is:  3.6143637527769217 P-Value is:  0.0006335646228660053\n"
     ]
    }
   ],
   "source": [
    "print('T-statistics value is: ',t_stat,'P-Value is: ',P_value)"
   ]
  },
  {
   "cell_type": "markdown",
   "id": "5f3b2dde",
   "metadata": {},
   "source": [
    "Let us assume that our alpha is 0.05, from the above we can see that our value for P-value is 0.0006. So, we reject the null hypothesis value.\n",
    "\n",
    "Conclusion:-The students who completed test preparation scored greater than the students who didn't. "
   ]
  },
  {
   "cell_type": "code",
   "execution_count": null,
   "id": "e7927989",
   "metadata": {},
   "outputs": [],
   "source": []
  }
 ],
 "metadata": {
  "kernelspec": {
   "display_name": "Python 3",
   "language": "python",
   "name": "python3"
  },
  "language_info": {
   "codemirror_mode": {
    "name": "ipython",
    "version": 3
   },
   "file_extension": ".py",
   "mimetype": "text/x-python",
   "name": "python",
   "nbconvert_exporter": "python",
   "pygments_lexer": "ipython3",
   "version": "3.8.8"
  }
 },
 "nbformat": 4,
 "nbformat_minor": 5
}
